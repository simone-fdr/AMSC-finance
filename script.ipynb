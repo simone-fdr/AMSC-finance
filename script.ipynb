{
  "nbformat": 4,
  "nbformat_minor": 0,
  "metadata": {
    "colab": {
      "provenance": []
    },
    "kernelspec": {
      "name": "python3",
      "display_name": "Python 3"
    },
    "language_info": {
      "name": "python"
    }
  },
  "cells": [
    {
      "cell_type": "code",
      "execution_count": 41,
      "metadata": {
        "id": "SgfeL7NxLrAL"
      },
      "outputs": [],
      "source": [
        "import numpy as np\n",
        "\n",
        "expirys = np.linspace(5, 5, num = 1)\n",
        "strikes = np.linspace(80, 100 , num = 5)\n",
        "spots = np.linspace(80, 100 , num = 5)\n",
        "vols = np.linspace(0.5, 0.5 , num = 1)\n",
        "rs = np.linspace(0.05,0.3 , num = 3)\n",
        "ds = np.linspace(0.05,0.3 , num = 3)\n",
        "\n",
        "with open('input.csv', 'w', encoding='UTF8') as f:\n",
        "  for expiry in expirys:\n",
        "    for strike in strikes:\n",
        "      for spot in spots:\n",
        "        for vol in vols:\n",
        "          for r in rs:\n",
        "            for d in ds:\n",
        "              f.write(f\"{expiry},{strike},{spot},{vol},{r},{d}\\n\")"
      ]
    },
    {
      "cell_type": "code",
      "source": [],
      "metadata": {
        "id": "TujxlUIxOpVs"
      },
      "execution_count": null,
      "outputs": []
    }
  ]
}